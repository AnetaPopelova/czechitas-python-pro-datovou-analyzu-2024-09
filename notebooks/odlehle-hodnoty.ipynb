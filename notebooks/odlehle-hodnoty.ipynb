{
 "cells": [
  {
   "cell_type": "markdown",
   "metadata": {},
   "source": [
    "# Ukázka práce s odlehlými hodnotami a boxploty"
   ]
  },
  {
   "cell_type": "code",
   "execution_count": 17,
   "metadata": {},
   "outputs": [],
   "source": [
    "import pandas as pd\n",
    "import numpy as np\n",
    "import seaborn as sns\n",
    "import matplotlib.pyplot as plt"
   ]
  },
  {
   "cell_type": "markdown",
   "metadata": {},
   "source": [
    "## Generování dat"
   ]
  },
  {
   "cell_type": "code",
   "execution_count": 2,
   "metadata": {},
   "outputs": [],
   "source": [
    "# Generování jednoduchého datasetu\n",
    "# Nastavení náhodného seed pro reprodukovatelnost výsledků\n",
    "np.random.seed(42)\n",
    "\n",
    "# Vytvoření dat z normálního rozdělení s mírným šumem\n",
    "# loc=100 znamená, že střední hodnota (mean) je 100, scale=15 představuje standardní odchylku\n",
    "# size=200 znamená, že generujeme 200 hodnot\n",
    "data = np.random.normal(loc=100, scale=15, size=200)\n",
    "\n",
    "# Přidání dvou odlehlých hodnot (outliers) do datasetu\n",
    "# Hodnoty 50 a 150 budou výrazně mimo hlavní rozsah dat\n",
    "data = np.append(data, [50, 150])\n",
    "\n",
    "# Vytvoření DataFrame z dat\n",
    "# Tento DataFrame bude mít jeden sloupec s názvem 'Values'\n",
    "df = pd.DataFrame(data, columns=['Values'])"
   ]
  },
  {
   "cell_type": "code",
   "execution_count": 15,
   "metadata": {},
   "outputs": [
    {
     "data": {
      "text/html": [
       "<div>\n",
       "<style scoped>\n",
       "    .dataframe tbody tr th:only-of-type {\n",
       "        vertical-align: middle;\n",
       "    }\n",
       "\n",
       "    .dataframe tbody tr th {\n",
       "        vertical-align: top;\n",
       "    }\n",
       "\n",
       "    .dataframe thead th {\n",
       "        text-align: right;\n",
       "    }\n",
       "</style>\n",
       "<table border=\"1\" class=\"dataframe\">\n",
       "  <thead>\n",
       "    <tr style=\"text-align: right;\">\n",
       "      <th></th>\n",
       "      <th>Values</th>\n",
       "    </tr>\n",
       "  </thead>\n",
       "  <tbody>\n",
       "    <tr>\n",
       "      <th>count</th>\n",
       "      <td>202.000000</td>\n",
       "    </tr>\n",
       "    <tr>\n",
       "      <th>mean</th>\n",
       "      <td>99.394491</td>\n",
       "    </tr>\n",
       "    <tr>\n",
       "      <th>std</th>\n",
       "      <td>14.763524</td>\n",
       "    </tr>\n",
       "    <tr>\n",
       "      <th>min</th>\n",
       "      <td>50.000000</td>\n",
       "    </tr>\n",
       "    <tr>\n",
       "      <th>25%</th>\n",
       "      <td>89.330847</td>\n",
       "    </tr>\n",
       "    <tr>\n",
       "      <th>50%</th>\n",
       "      <td>99.937122</td>\n",
       "    </tr>\n",
       "    <tr>\n",
       "      <th>75%</th>\n",
       "      <td>107.636937</td>\n",
       "    </tr>\n",
       "    <tr>\n",
       "      <th>max</th>\n",
       "      <td>150.000000</td>\n",
       "    </tr>\n",
       "  </tbody>\n",
       "</table>\n",
       "</div>"
      ],
      "text/plain": [
       "           Values\n",
       "count  202.000000\n",
       "mean    99.394491\n",
       "std     14.763524\n",
       "min     50.000000\n",
       "25%     89.330847\n",
       "50%     99.937122\n",
       "75%    107.636937\n",
       "max    150.000000"
      ]
     },
     "execution_count": 15,
     "metadata": {},
     "output_type": "execute_result"
    }
   ],
   "source": [
    "df.describe()"
   ]
  },
  {
   "cell_type": "markdown",
   "metadata": {},
   "source": [
    "## Boxplot\n",
    "\n",
    "Boxplot obsahuje:\n",
    "1. Střední čára v boxu - představuje medián (50. percentil) dat.\n",
    "2. Box (krabice) - znázorňuje rozsah mezi prvním (Q1, 25. percentil) a třetím kvartilem (Q3, 75. percentil).\n",
    "3. Fousy (whiskers) - ukazují rozsah dat, která nejsou považována za odlehlé hodnoty (mezi Q1 - 1.5 * IQR a Q3 + 1.5 * IQR).\n",
    "4. Malé kolečka mimo box a fousy - tyto body představují odlehlé hodnoty (outliers).\n",
    "\n",
    "Jak identifikovat odlehlé hodnoty na grafu:\n",
    "- Hodnoty, které jsou znázorněny jako malé kolečka mimo fousy, jsou považovány za odlehlé hodnoty.\n",
    "- Odlehlé hodnoty jsou data, která leží mimo rozsah Q1 - 1.5 * IQR (dolní hranice) nebo Q3 + 1.5 * IQR (horní hranice).\n",
    "- Tyto body jsou snadno identifikovatelné na grafu, protože nejsou součástí boxu ani fousů."
   ]
  },
  {
   "cell_type": "code",
   "execution_count": 3,
   "metadata": {},
   "outputs": [
    {
     "data": {
      "text/plain": [
       "[Text(0.5, 1.0, \"Boxplot of 'Values'\")]"
      ]
     },
     "execution_count": 3,
     "metadata": {},
     "output_type": "execute_result"
    },
    {
     "data": {
      "image/png": "[encoded data removed]",
      "text/plain": [
       "<Figure size 640x480 with 1 Axes>"
      ]
     },
     "metadata": {},
     "output_type": "display_data"
    }
   ],
   "source": [
    "# Vykreslení boxplotu pomocí knihovny Seaborn\n",
    "# Boxplot (krabicový graf) vizualizuje rozdělení dat a umožňuje identifikovat odlehlé hodnoty.\n",
    "ax = sns.boxplot(data=df, x='Values')\n",
    "\n",
    "# Nastavení názvu grafu\n",
    "ax.set(title=\"Boxplot of 'Values'\")"
   ]
  },
  {
   "cell_type": "markdown",
   "metadata": {},
   "source": [
    "## IQR: interkvartilové rozpětí\n",
    "\n",
    "- Q1 a Q3 představují hodnoty 25. a 75. percentilu (kvartily).\n",
    "- IQR (interkvartilové rozpětí) je rozsah, ve kterém se nachází střední 50 % dat.\n",
    "- Dolní hranice je stanovena jako Q1 - 1.5 * IQR, hodnoty pod touto hranicí jsou považovány za outliers.\n",
    "- Horní hranice je Q3 + 1.5 * IQR, hodnoty nad touto hranicí jsou také outliers.\n",
    "- Filtrace pomocí podmínky vybere řádky, které jsou buď pod dolní nebo nad horní hranicí, což jsou naše outliers."
   ]
  },
  {
   "cell_type": "code",
   "execution_count": 18,
   "metadata": {},
   "outputs": [
    {
     "data": {
      "text/html": [
       "<div>\n",
       "<style scoped>\n",
       "    .dataframe tbody tr th:only-of-type {\n",
       "        vertical-align: middle;\n",
       "    }\n",
       "\n",
       "    .dataframe tbody tr th {\n",
       "        vertical-align: top;\n",
       "    }\n",
       "\n",
       "    .dataframe thead th {\n",
       "        text-align: right;\n",
       "    }\n",
       "</style>\n",
       "<table border=\"1\" class=\"dataframe\">\n",
       "  <thead>\n",
       "    <tr style=\"text-align: right;\">\n",
       "      <th></th>\n",
       "      <th>Values</th>\n",
       "    </tr>\n",
       "  </thead>\n",
       "  <tbody>\n",
       "    <tr>\n",
       "      <th>74</th>\n",
       "      <td>60.703823</td>\n",
       "    </tr>\n",
       "    <tr>\n",
       "      <th>113</th>\n",
       "      <td>136.948632</td>\n",
       "    </tr>\n",
       "    <tr>\n",
       "      <th>179</th>\n",
       "      <td>140.802537</td>\n",
       "    </tr>\n",
       "    <tr>\n",
       "      <th>200</th>\n",
       "      <td>50.000000</td>\n",
       "    </tr>\n",
       "    <tr>\n",
       "      <th>201</th>\n",
       "      <td>150.000000</td>\n",
       "    </tr>\n",
       "  </tbody>\n",
       "</table>\n",
       "</div>"
      ],
      "text/plain": [
       "         Values\n",
       "74    60.703823\n",
       "113  136.948632\n",
       "179  140.802537\n",
       "200   50.000000\n",
       "201  150.000000"
      ]
     },
     "execution_count": 18,
     "metadata": {},
     "output_type": "execute_result"
    },
    {
     "data": {
      "text/plain": [
       "<Figure size 1200x600 with 0 Axes>"
      ]
     },
     "metadata": {},
     "output_type": "display_data"
    }
   ],
   "source": [
    "# Identifikace outliers pomocí IQR\n",
    "# Nejprve spočítáme první kvartil (Q1) - to je hodnota, pod kterou spadá 25 % dat\n",
    "Q1 = df['Values'].quantile(0.25)\n",
    "\n",
    "# Dále spočítáme třetí kvartil (Q3) - to je hodnota, pod kterou spadá 75 % dat\n",
    "Q3 = df['Values'].quantile(0.75)\n",
    "\n",
    "# Interkvartilové rozpětí (IQR) je rozdíl mezi třetím a prvním kvartilem\n",
    "IQR = Q3 - Q1\n",
    "\n",
    "# Nyní spočítáme dolní a horní hranici pro identifikaci outliers:\n",
    "# Hodnoty menší než dolní hranice a větší než horní hranice budou považovány za odlehlé hodnoty.\n",
    "lower_bound = Q1 - 1.5 * IQR  # Dolní hranice\n",
    "upper_bound = Q3 + 1.5 * IQR  # Horní hranice\n",
    "\n",
    "# Filtrací získáme pouze outlier řádky\n",
    "# Vybíráme řádky, kde hodnota je buď menší než dolní hranice nebo větší než horní hranice\n",
    "outliers = df[(df['Values'] < lower_bound) | (df['Values'] > upper_bound)]\n",
    "\n",
    "# Výpis outlier řádků\n",
    "outliers"
   ]
  },
  {
   "cell_type": "markdown",
   "metadata": {},
   "source": [
    "## Čištění dat\n",
    "\n",
    "Tento krok odstraní odlehlé hodnoty (outliers) a ponechá pouze ty řádky,kde hodnota spadá do rozsahu mezi dolní a horní hranicí.\n",
    "Používáme logickou podmínku:\n",
    "- `(df['Values'] >= lower_bound)` - vybere všechny řádky, kde hodnota není menší než dolní hranice.\n",
    "- `(df['Values'] <= upper_bound)` - vybere všechny řádky, kde hodnota není větší než horní hranice.\n",
    "\n",
    "Použitím logického operátoru `&` (AND) se vyberou pouze řádky, které splňují obě podmínky, tzn. hodnoty spadající do rozsahu mezi dolní a horní hranicí (nejsou to outliers)."
   ]
  },
  {
   "cell_type": "code",
   "execution_count": 5,
   "metadata": {},
   "outputs": [
    {
     "data": {
      "text/html": [
       "<div>\n",
       "<style scoped>\n",
       "    .dataframe tbody tr th:only-of-type {\n",
       "        vertical-align: middle;\n",
       "    }\n",
       "\n",
       "    .dataframe tbody tr th {\n",
       "        vertical-align: top;\n",
       "    }\n",
       "\n",
       "    .dataframe thead th {\n",
       "        text-align: right;\n",
       "    }\n",
       "</style>\n",
       "<table border=\"1\" class=\"dataframe\">\n",
       "  <thead>\n",
       "    <tr style=\"text-align: right;\">\n",
       "      <th></th>\n",
       "      <th>Values</th>\n",
       "    </tr>\n",
       "  </thead>\n",
       "  <tbody>\n",
       "    <tr>\n",
       "      <th>0</th>\n",
       "      <td>107.450712</td>\n",
       "    </tr>\n",
       "    <tr>\n",
       "      <th>1</th>\n",
       "      <td>97.926035</td>\n",
       "    </tr>\n",
       "    <tr>\n",
       "      <th>2</th>\n",
       "      <td>109.715328</td>\n",
       "    </tr>\n",
       "    <tr>\n",
       "      <th>3</th>\n",
       "      <td>122.845448</td>\n",
       "    </tr>\n",
       "    <tr>\n",
       "      <th>4</th>\n",
       "      <td>96.487699</td>\n",
       "    </tr>\n",
       "    <tr>\n",
       "      <th>...</th>\n",
       "      <td>...</td>\n",
       "    </tr>\n",
       "    <tr>\n",
       "      <th>195</th>\n",
       "      <td>105.779761</td>\n",
       "    </tr>\n",
       "    <tr>\n",
       "      <th>196</th>\n",
       "      <td>86.742138</td>\n",
       "    </tr>\n",
       "    <tr>\n",
       "      <th>197</th>\n",
       "      <td>102.305877</td>\n",
       "    </tr>\n",
       "    <tr>\n",
       "      <th>198</th>\n",
       "      <td>100.873131</td>\n",
       "    </tr>\n",
       "    <tr>\n",
       "      <th>199</th>\n",
       "      <td>82.855446</td>\n",
       "    </tr>\n",
       "  </tbody>\n",
       "</table>\n",
       "<p>197 rows × 1 columns</p>\n",
       "</div>"
      ],
      "text/plain": [
       "         Values\n",
       "0    107.450712\n",
       "1     97.926035\n",
       "2    109.715328\n",
       "3    122.845448\n",
       "4     96.487699\n",
       "..          ...\n",
       "195  105.779761\n",
       "196   86.742138\n",
       "197  102.305877\n",
       "198  100.873131\n",
       "199   82.855446\n",
       "\n",
       "[197 rows x 1 columns]"
      ]
     },
     "execution_count": 5,
     "metadata": {},
     "output_type": "execute_result"
    }
   ],
   "source": [
    "df_cleaned = df[(df['Values'] >= lower_bound) & (df['Values'] <= upper_bound)]\n",
    "\n",
    "df_cleaned = df[(df['Values'] >= lower_bound) & (df['Values'] <= upper_bound)]\n",
    "df_cleaned"
   ]
  },
  {
   "cell_type": "code",
   "execution_count": 6,
   "metadata": {},
   "outputs": [
    {
     "data": {
      "text/plain": [
       "[Text(0.5, 1.0, \"Boxplot of 'Values'\")]"
      ]
     },
     "execution_count": 6,
     "metadata": {},
     "output_type": "execute_result"
    },
    {
     "data": {
      "image/png": "[encoded data removed]",
      "text/plain": [
       "<Figure size 640x480 with 1 Axes>"
      ]
     },
     "metadata": {},
     "output_type": "display_data"
    }
   ],
   "source": [
    "ax = sns.boxplot(data=df_cleaned, x='Values')\n",
    "ax.set(title=\"Boxplot of 'Values'\")"
   ]
  },
  {
   "cell_type": "markdown",
   "metadata": {},
   "source": [
    "### Boxplot včetně zobrazení hodnot"
   ]
  },
  {
   "cell_type": "code",
   "execution_count": 30,
   "metadata": {},
   "outputs": [
    {
     "data": {
      "text/plain": [
       "Text(132.85683438714966, 0.07, 'Max: 132.86')"
      ]
     },
     "execution_count": 30,
     "metadata": {},
     "output_type": "execute_result"
    },
    {
     "data": {
      "image/png": "[encoded data removed]",
      "text/plain": [
       "<Figure size 1200x400 with 1 Axes>"
      ]
     },
     "metadata": {},
     "output_type": "display_data"
    }
   ],
   "source": [
    "plt.figure(figsize=(12, 4))\n",
    "\n",
    "# Styl 'whitegrid' přidává jemnou mřížku na pozadí grafu, což zlepšuje čitelnost\n",
    "sns.set(style=\"whitegrid\")\n",
    "\n",
    "# Vytvoření boxplotu s šedou barvou a tloušťkou čar\n",
    "# Tloušťka čar (linewidth=2.5) dává boxplotu výraznější vzhled\n",
    "ax = sns.boxplot(data=df_cleaned, x='Values', color=\"#BABACC\", linewidth=1.5)\n",
    "\n",
    "# Nastavení názvu a dalších prvků formátování grafu\n",
    "# Parametry: název grafu, popis os, velikost písma a tučnost textu pro lepší čitelnost\n",
    "ax.set(title=\"Boxplot of 'Values'\", xlabel=\"Values\", ylabel=\"Density\")\n",
    "ax.set_title(\"Boxplot of 'Values'\", fontsize=16, weight='bold',\n",
    "             pad=20)  # Název s větším tučným písmem\n",
    "\n",
    "# Úprava mřížky a odstranění horních a pravých hranic grafu pro čistší vzhled\n",
    "# Použití přerušované čáry na ose y, čímž zůstane graf jemný a přehledný\n",
    "ax.grid(True, which='major', axis='y', linestyle='--', alpha=0.7)\n",
    "sns.despine(left=True, bottom=True)  # Odstranění nepotřebných okrajů\n",
    "\n",
    "# Výpočet statistických hodnot pro přidání popisků\n",
    "Q1 = df_cleaned['Values'].quantile(0.25)\n",
    "Q3 = df_cleaned['Values'].quantile(0.75)\n",
    "median = df_cleaned['Values'].median()\n",
    "min_value = df_cleaned['Values'].min()\n",
    "max_value = df_cleaned['Values'].max()\n",
    "\n",
    "# Přidání popisků k důležitým statistickým hodnotám\n",
    "# Používáme textové popisky (ax.text) pro klíčové body: minimum, Q1, medián, Q3, maximum\n",
    "# Popisky jsou barevně odlišeny a umístěny těsně nad osou x pro snadnou identifikaci\n",
    "ax.text(min_value, 0.07, f'Min: {min_value:.2f}',\n",
    "        ha='center', color='blue', fontsize=12, weight='bold')\n",
    "ax.text(Q1, 0.07, f'Q1: {Q1:.2f}', ha='center',\n",
    "        color='#315659', fontsize=12, weight='bold')\n",
    "ax.text(median, 0.09, f'Median: { median:.2f}', ha='center', color='black', fontsize=12, weight='bold')\n",
    "ax.text(Q3, 0.07, f'Q3: {Q3:.2f}', ha='center',\n",
    "        color='#315659', fontsize=12, weight='bold')\n",
    "ax.text(max_value, 0.07, f'Max: {max_value:.2f}', ha='center', color='#E03616', fontsize=12, weight='bold')"
   ]
  },
  {
   "cell_type": "code",
   "execution_count": null,
   "metadata": {},
   "outputs": [],
   "source": []
  }
 ],
 "metadata": {
  "kernelspec": {
   "display_name": "Python 3",
   "language": "python",
   "name": "python3"
  },
  "language_info": {
   "codemirror_mode": {
    "name": "ipython",
    "version": 3
   },
   "file_extension": ".py",
   "mimetype": "text/x-python",
   "name": "python",
   "nbconvert_exporter": "python",
   "pygments_lexer": "ipython3",
   "version": "3.12.3"
  }
 },
 "nbformat": 4,
 "nbformat_minor": 2
}
