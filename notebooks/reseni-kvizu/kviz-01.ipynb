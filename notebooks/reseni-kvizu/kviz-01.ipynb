{
 "cells": [
  {
   "cell_type": "markdown",
   "metadata": {},
   "source": [
    "# LEKCE 1\n",
    "\n",
    "# Základní analýza datové sady Palmer Penguins"
   ]
  },
  {
   "cell_type": "markdown",
   "metadata": {},
   "source": [
    "## Načtěte dataset Palmer Penguins\n",
    "Můžete jej stáhnout z GitHub [repozitáře](https://raw.githubusercontent.com/allisonhorst/palmerpenguins/master/inst/extdata/penguins.csv).\n",
    "\n",
    "Použijte knihovnu pandas, metodu `read_csv()` a data uložte do dataframu nazváného data."
   ]
  },
  {
   "cell_type": "markdown",
   "metadata": {},
   "source": [
    "#### Dokumentace k datasetu “Penguins”\n",
    "\n",
    "Tento dataset obsahuje údaje o třech druzích tučňáků, kteří se vyskytují v oblasti Palmerovy stanice na Antarktidě. Dataset je často využíván pro výukové účely a analýzy dat.\n",
    "\n",
    "Dataset obsahuje měření různých fyzických charakteristik tučňáků ze tří různých ostrovů. Data zahrnují informace o délce zobáku, hloubce zobáku, délce ploutví, hmotnosti těla a dalších proměnných. Měření byla provedena na třech druzích tučňáků: Adélie, Gentoo, a Chinstrap.\n",
    "\n",
    "**Sloupce datasetu:**\n",
    "\n",
    "- species – Druh tučňáka (Adélie, Gentoo, Chinstrap)\n",
    "- island – Ostrov, na kterém byl tučňák pozorován (Biscoe, Dream, Torgersen)\n",
    "- bill_length_mm – Délka zobáku v milimetrech\n",
    "- bill_depth_mm – Hloubka zobáku v milimetrech\n",
    "- flipper_length_mm – Délka ploutve v milimetrech\n",
    "- body_mass_g – Hmotnost těla tučňáka v gramech\n",
    "- sex – Pohlaví tučňáka (Male nebo Female)\n",
    "- year – Rok, kdy bylo měření provedeno"
   ]
  },
  {
   "cell_type": "code",
   "execution_count": 1,
   "metadata": {},
   "outputs": [],
   "source": [
    "import pandas as pd\n",
    "\n",
    "url = \"https://raw.githubusercontent.com/allisonhorst/palmerpenguins/master/inst/extdata/penguins.csv\"\n",
    "\n",
    "data = pd.read_csv(url)"
   ]
  },
  {
   "cell_type": "markdown",
   "metadata": {},
   "source": [
    "### Kolik sloupců má načtený dataset?\n"
   ]
  },
  {
   "cell_type": "code",
   "execution_count": 2,
   "metadata": {},
   "outputs": [
    {
     "name": "stdout",
     "output_type": "stream",
     "text": [
      "8\n"
     ]
    }
   ],
   "source": [
    "# Získání počtu sloupců v datovém rámci (druhý prvek tuple)\n",
    "pocet_sloupcu = data.shape[1]\n",
    "\n",
    "print(pocet_sloupcu)\n",
    "\n",
    "# Zobrazení informací o datovém rámci, včetně počtu ne-null hodnot, typů sloupců atd.\n",
    "# data.info()"
   ]
  },
  {
   "cell_type": "markdown",
   "metadata": {},
   "source": [
    "Alternativní způsoby\n"
   ]
  },
  {
   "cell_type": "code",
   "execution_count": 3,
   "metadata": {},
   "outputs": [],
   "source": [
    "# Získání počtu sloupců pomocí len() na seznamu sloupců\n",
    "pocet_sloupcu = len(data.columns)\n",
    "\n",
    "# Získání počtu unikátních názvů sloupců pomocí .nunique() na seznamu sloupců\n",
    "pocet_sloupcu = data.columns.nunique()\n",
    "\n",
    "# Použití metody .columns.size, která vrací počet sloupců\n",
    "pocet_sloupcu = data.columns.size"
   ]
  },
  {
   "cell_type": "markdown",
   "metadata": {},
   "source": [
    "### Kolik řádků obsahuje dataset?"
   ]
  },
  {
   "cell_type": "code",
   "execution_count": 4,
   "metadata": {},
   "outputs": [
    {
     "name": "stdout",
     "output_type": "stream",
     "text": [
      "344\n"
     ]
    }
   ],
   "source": [
    "# Použití data.shape[0] (první prvek tuple ze shape)\n",
    "pocet_radek = data.shape[0]\n",
    "\n",
    "# Použití len() na samotný datový rámec (vrací délku indexu, tedy počet řádků)\n",
    "pocet_radek = len(data)\n",
    "\n",
    "# Použití len() na index datového rámce\n",
    "pocet_radek = len(data.index)\n",
    "\n",
    "# Použití pandasové metody .index.size (přímo vrací velikost indexu, což odpovídá počtu řádků)\n",
    "pocet_radek = data.index.size\n",
    "\n",
    "print(pocet_radek)\n",
    "\n",
    "# Použití .info() k zobrazení počtu ne-null hodnot v každém sloupci (ale toto jen zobrazí, ne vrátí výsledek jako číslo)\n",
    "# data.info()"
   ]
  },
  {
   "cell_type": "markdown",
   "metadata": {},
   "source": [
    "### Kolik sloupců v datasetu obsahuje prázdné hodnoty?"
   ]
  },
  {
   "cell_type": "code",
   "execution_count": 5,
   "metadata": {},
   "outputs": [
    {
     "name": "stdout",
     "output_type": "stream",
     "text": [
      "<class 'pandas.core.frame.DataFrame'>\n",
      "RangeIndex: 344 entries, 0 to 343\n",
      "Data columns (total 8 columns):\n",
      " #   Column             Non-Null Count  Dtype  \n",
      "---  ------             --------------  -----  \n",
      " 0   species            344 non-null    object \n",
      " 1   island             344 non-null    object \n",
      " 2   bill_length_mm     342 non-null    float64\n",
      " 3   bill_depth_mm      342 non-null    float64\n",
      " 4   flipper_length_mm  342 non-null    float64\n",
      " 5   body_mass_g        342 non-null    float64\n",
      " 6   sex                333 non-null    object \n",
      " 7   year               344 non-null    int64  \n",
      "dtypes: float64(4), int64(1), object(3)\n",
      "memory usage: 21.6+ KB\n"
     ]
    }
   ],
   "source": [
    "# Zobrazení informace o sloupcích včetně počtu ne-null hodnot\n",
    "data.info()"
   ]
  },
  {
   "cell_type": "markdown",
   "metadata": {},
   "source": [
    "**Něco navíc** \n",
    "\n",
    "Další pokročilejší způsoby pro inspiraci"
   ]
  },
  {
   "cell_type": "code",
   "execution_count": 6,
   "metadata": {},
   "outputs": [
    {
     "name": "stdout",
     "output_type": "stream",
     "text": [
      "5\n"
     ]
    }
   ],
   "source": [
    "# Zjištění, kolik sloupců obsahuje alespoň jednu prázdnou hodnotu\n",
    "pocet_sloupcu_nan = data.isnull().any().sum()\n",
    "pocet_sloupcu_nan = data.isna().any().sum()\n",
    "\n",
    "print(pocet_sloupcu_nan)"
   ]
  },
  {
   "cell_type": "markdown",
   "metadata": {},
   "source": [
    "### Co představuje index v pandas DataFrame a jakou roli hraje při práci s daty?"
   ]
  },
  {
   "cell_type": "markdown",
   "metadata": {},
   "source": [
    "Index v pandas je sloupec, který slouží jako jedinečný identifikátor pro každý řádek a usnadňuje přístup k datům."
   ]
  },
  {
   "cell_type": "markdown",
   "metadata": {},
   "source": [
    "### Jaký je průměrný `body_mass_g` tučňáků v datasetu?\n",
    "\n",
    "Použijte metodu `describe()` pro zobrazení základních statistik."
   ]
  },
  {
   "cell_type": "markdown",
   "metadata": {},
   "source": [
    "### Jaká je maximální délka křídel (`flipper_length_mm`) tučňáků v datasetu?\n",
    "\n",
    "Použijte metodu `describe()` pro zobrazení základních statistik.\n",
    "\n",
    "Výsledek zaokrouhli na celé číslo."
   ]
  },
  {
   "cell_type": "code",
   "execution_count": 7,
   "metadata": {},
   "outputs": [
    {
     "data": {
      "text/html": [
       "<div>\n",
       "<style scoped>\n",
       "    .dataframe tbody tr th:only-of-type {\n",
       "        vertical-align: middle;\n",
       "    }\n",
       "\n",
       "    .dataframe tbody tr th {\n",
       "        vertical-align: top;\n",
       "    }\n",
       "\n",
       "    .dataframe thead th {\n",
       "        text-align: right;\n",
       "    }\n",
       "</style>\n",
       "<table border=\"1\" class=\"dataframe\">\n",
       "  <thead>\n",
       "    <tr style=\"text-align: right;\">\n",
       "      <th></th>\n",
       "      <th>bill_length_mm</th>\n",
       "      <th>bill_depth_mm</th>\n",
       "      <th>flipper_length_mm</th>\n",
       "      <th>body_mass_g</th>\n",
       "      <th>year</th>\n",
       "    </tr>\n",
       "  </thead>\n",
       "  <tbody>\n",
       "    <tr>\n",
       "      <th>count</th>\n",
       "      <td>342.000000</td>\n",
       "      <td>342.000000</td>\n",
       "      <td>342.000000</td>\n",
       "      <td>342.000000</td>\n",
       "      <td>344.000000</td>\n",
       "    </tr>\n",
       "    <tr>\n",
       "      <th>mean</th>\n",
       "      <td>43.921930</td>\n",
       "      <td>17.151170</td>\n",
       "      <td>200.915205</td>\n",
       "      <td>4201.754386</td>\n",
       "      <td>2008.029070</td>\n",
       "    </tr>\n",
       "    <tr>\n",
       "      <th>std</th>\n",
       "      <td>5.459584</td>\n",
       "      <td>1.974793</td>\n",
       "      <td>14.061714</td>\n",
       "      <td>801.954536</td>\n",
       "      <td>0.818356</td>\n",
       "    </tr>\n",
       "    <tr>\n",
       "      <th>min</th>\n",
       "      <td>32.100000</td>\n",
       "      <td>13.100000</td>\n",
       "      <td>172.000000</td>\n",
       "      <td>2700.000000</td>\n",
       "      <td>2007.000000</td>\n",
       "    </tr>\n",
       "    <tr>\n",
       "      <th>25%</th>\n",
       "      <td>39.225000</td>\n",
       "      <td>15.600000</td>\n",
       "      <td>190.000000</td>\n",
       "      <td>3550.000000</td>\n",
       "      <td>2007.000000</td>\n",
       "    </tr>\n",
       "    <tr>\n",
       "      <th>50%</th>\n",
       "      <td>44.450000</td>\n",
       "      <td>17.300000</td>\n",
       "      <td>197.000000</td>\n",
       "      <td>4050.000000</td>\n",
       "      <td>2008.000000</td>\n",
       "    </tr>\n",
       "    <tr>\n",
       "      <th>75%</th>\n",
       "      <td>48.500000</td>\n",
       "      <td>18.700000</td>\n",
       "      <td>213.000000</td>\n",
       "      <td>4750.000000</td>\n",
       "      <td>2009.000000</td>\n",
       "    </tr>\n",
       "    <tr>\n",
       "      <th>max</th>\n",
       "      <td>59.600000</td>\n",
       "      <td>21.500000</td>\n",
       "      <td>231.000000</td>\n",
       "      <td>6300.000000</td>\n",
       "      <td>2009.000000</td>\n",
       "    </tr>\n",
       "  </tbody>\n",
       "</table>\n",
       "</div>"
      ],
      "text/plain": [
       "       bill_length_mm  bill_depth_mm  flipper_length_mm  body_mass_g  \\\n",
       "count      342.000000     342.000000         342.000000   342.000000   \n",
       "mean        43.921930      17.151170         200.915205  4201.754386   \n",
       "std          5.459584       1.974793          14.061714   801.954536   \n",
       "min         32.100000      13.100000         172.000000  2700.000000   \n",
       "25%         39.225000      15.600000         190.000000  3550.000000   \n",
       "50%         44.450000      17.300000         197.000000  4050.000000   \n",
       "75%         48.500000      18.700000         213.000000  4750.000000   \n",
       "max         59.600000      21.500000         231.000000  6300.000000   \n",
       "\n",
       "              year  \n",
       "count   344.000000  \n",
       "mean   2008.029070  \n",
       "std       0.818356  \n",
       "min    2007.000000  \n",
       "25%    2007.000000  \n",
       "50%    2008.000000  \n",
       "75%    2009.000000  \n",
       "max    2009.000000  "
      ]
     },
     "execution_count": 7,
     "metadata": {},
     "output_type": "execute_result"
    }
   ],
   "source": [
    "data.describe()"
   ]
  },
  {
   "cell_type": "markdown",
   "metadata": {},
   "source": [
    "## Metoda `unique()`\n",
    "Použijte metodu `unique()` pro zjištění různých druhů tučňáků (`species`) v datasetu.\n",
    "\n",
    "\n",
    "Jak použít metodu `unique()` v Pandas:\n",
    "\n",
    "Metoda `unique()` v knihovně Pandas se používá k získání unikátních hodnot ze sloupce v DataFrame. Tato metoda je velmi užitečná pro identifikaci různých hodnot v kategoriálních datech.\n",
    "\n",
    "Krok za krokem:\n",
    "\n",
    "- Vyberte sloupec, ve kterém chcete najít unikátní hodnoty. Příklad: Pokud chcete zjistit různé druhy tučňáků v sloupci species, vaše volba sloupce bude `data['species']`.\n",
    "- Použijte metodu unique() na vybraném sloupci. To se provádí následovně: `data['species'].unique()`. Tento příkaz vrátí pole unikátních hodnot nalezených v daném sloupci.\n",
    "\n",
    "Odkaz na dokumentaci:\n",
    "Pro detailnější informace o metodě unique() se můžete podívat na [oficiální dokumentaci Pandas](https://pandas.pydata.org/docs/reference/api/pandas.unique.html)."
   ]
  },
  {
   "cell_type": "markdown",
   "metadata": {},
   "source": [
    "### Které druhy tučňáků jsou zastoupeny v datasetu?\n"
   ]
  },
  {
   "cell_type": "code",
   "execution_count": 9,
   "metadata": {},
   "outputs": [
    {
     "data": {
      "text/plain": [
       "array(['Adelie', 'Gentoo', 'Chinstrap'], dtype=object)"
      ]
     },
     "execution_count": 9,
     "metadata": {},
     "output_type": "execute_result"
    }
   ],
   "source": [
    "data[\"species\"].unique()"
   ]
  }
 ],
 "metadata": {
  "kernelspec": {
   "display_name": "Python 3",
   "language": "python",
   "name": "python3"
  },
  "language_info": {
   "codemirror_mode": {
    "name": "ipython",
    "version": 3
   },
   "file_extension": ".py",
   "mimetype": "text/x-python",
   "name": "python",
   "nbconvert_exporter": "python",
   "pygments_lexer": "ipython3",
   "version": "3.12.3"
  }
 },
 "nbformat": 4,
 "nbformat_minor": 2
}
