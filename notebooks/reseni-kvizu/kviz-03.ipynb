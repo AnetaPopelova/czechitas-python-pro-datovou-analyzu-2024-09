{
 "cells": [
  {
   "cell_type": "markdown",
   "metadata": {},
   "source": [
    "# LEKCE 3\n",
    "\n",
    "# Spojování, agregace a řazení tučňáků"
   ]
  },
  {
   "cell_type": "markdown",
   "metadata": {},
   "source": [
    "## Načtěte dataset Palmer Penguins\n",
    "Můžete jej stáhnout z GitHub [repozitáře](https://raw.githubusercontent.com/allisonhorst/palmerpenguins/master/inst/extdata/penguins.csv).\n",
    "\n",
    "Použijte knihovnu pandas, metodu `read_csv()` a data uložte do dataframu nazváného data."
   ]
  },
  {
   "cell_type": "markdown",
   "metadata": {},
   "source": [
    "#### Dokumentace k datasetu “Penguins”\n",
    "\n",
    "Tento dataset obsahuje údaje o třech druzích tučňáků, kteří se vyskytují v oblasti Palmerovy stanice na Antarktidě. Dataset je často využíván pro výukové účely a analýzy dat.\n",
    "\n",
    "Dataset obsahuje měření různých fyzických charakteristik tučňáků ze tří různých ostrovů. Data zahrnují informace o délce zobáku, hloubce zobáku, délce ploutví, hmotnosti těla a dalších proměnných. Měření byla provedena na třech druzích tučňáků: Adélie, Gentoo, a Chinstrap.\n",
    "\n",
    "**Sloupce datasetu:**\n",
    "\n",
    "- species – Druh tučňáka (Adélie, Gentoo, Chinstrap)\n",
    "- island – Ostrov, na kterém byl tučňák pozorován (Biscoe, Dream, Torgersen)\n",
    "- bill_length_mm – Délka zobáku v milimetrech\n",
    "- bill_depth_mm – Hloubka zobáku v milimetrech\n",
    "- flipper_length_mm – Délka ploutve v milimetrech\n",
    "- body_mass_g – Hmotnost těla tučňáka v gramech\n",
    "- sex – Pohlaví tučňáka (Male nebo Female)\n",
    "- year – Rok, kdy bylo měření provedeno"
   ]
  },
  {
   "cell_type": "code",
   "execution_count": 1,
   "metadata": {},
   "outputs": [],
   "source": [
    "import pandas as pd\n",
    "\n",
    "url = \"https://raw.githubusercontent.com/allisonhorst/palmerpenguins/master/inst/extdata/penguins.csv\"\n",
    "data = pd.read_csv(url)"
   ]
  },
  {
   "cell_type": "code",
   "execution_count": 14,
   "metadata": {},
   "outputs": [
    {
     "data": {
      "text/plain": [
       "species\n",
       "Adelie       3700.662252\n",
       "Chinstrap    3733.088235\n",
       "Gentoo       5076.016260\n",
       "Name: body_mass_g, dtype: float64"
      ]
     },
     "execution_count": 14,
     "metadata": {},
     "output_type": "execute_result"
    }
   ],
   "source": [
    "# data.mean()\n",
    "prumer = data.groupby(\"species\")[\"body_mass_g\"].mean()\n",
    "prumer"
   ]
  },
  {
   "cell_type": "markdown",
   "metadata": {},
   "source": [
    "### Jaké jsou průměrné hodnoty hmotnost tučňáků podle jejich druhu?"
   ]
  },
  {
   "cell_type": "code",
   "execution_count": 3,
   "metadata": {},
   "outputs": [
    {
     "data": {
      "text/plain": [
       "species\n",
       "Adelie       3700.662252\n",
       "Chinstrap    3733.088235\n",
       "Gentoo       5076.016260\n",
       "Name: body_mass_g, dtype: float64"
      ]
     },
     "execution_count": 3,
     "metadata": {},
     "output_type": "execute_result"
    }
   ],
   "source": [
    "data.groupby(\"species\")[\"body_mass_g\"].mean()"
   ]
  },
  {
   "cell_type": "markdown",
   "metadata": {},
   "source": [
    "### Který druh tučňáka má největší maximální hmotnost a jaká je tato hmotnost?\n",
    "\n",
    "Nejprve seskupte data podle druhu tučňáka pomocí `groupby()`, poté použijte agregaci `max()` na sloupec s hmotností.  \n",
    "Nakonec použijte metodu `sort_values()` pro seřazení výsledků sestupně a získejte první řádek pro odpověď."
   ]
  },
  {
   "cell_type": "code",
   "execution_count": 4,
   "metadata": {},
   "outputs": [
    {
     "data": {
      "text/plain": [
       "species\n",
       "Gentoo    6300.0\n",
       "Name: body_mass_g, dtype: float64"
      ]
     },
     "execution_count": 4,
     "metadata": {},
     "output_type": "execute_result"
    }
   ],
   "source": [
    "data.groupby(\"species\")[\"body_mass_g\"].max().sort_values(ascending=False).head(1)"
   ]
  },
  {
   "cell_type": "markdown",
   "metadata": {},
   "source": [
    "### Jaký je počet tučňáků podle jejich pohlaví v každém druhu? "
   ]
  },
  {
   "cell_type": "code",
   "execution_count": 5,
   "metadata": {},
   "outputs": [
    {
     "data": {
      "text/plain": [
       "species    sex   \n",
       "Adelie     female    73\n",
       "           male      73\n",
       "Chinstrap  female    34\n",
       "           male      34\n",
       "Gentoo     female    58\n",
       "           male      61\n",
       "dtype: int64"
      ]
     },
     "execution_count": 5,
     "metadata": {},
     "output_type": "execute_result"
    }
   ],
   "source": [
    "data.groupby([\"species\", \"sex\"]).size()\n",
    "# data.groupby([\"species\", \"sex\"])[\"sex\"].size()"
   ]
  },
  {
   "cell_type": "markdown",
   "metadata": {},
   "source": [
    "### Jaké jsou minimální a maximální hodnoty délky křídel tučňáků a jak se liší mezi druhy? Který druh má nejmenší rozdíl mezi minimální a maximální délkou křídel?\n",
    "\n",
    "Seskupte data podle druhu tučňáka a použijte metody `min()` a `max()` pro zjištění minimálních a maximálních hodnot délky křídel.  \n",
    "Výsledky můžete zobrazit pomocí metody `agg()`, kde specifikujete obě agregační funkce."
   ]
  },
  {
   "cell_type": "code",
   "execution_count": 6,
   "metadata": {},
   "outputs": [
    {
     "data": {
      "text/html": [
       "<div>\n",
       "<style scoped>\n",
       "    .dataframe tbody tr th:only-of-type {\n",
       "        vertical-align: middle;\n",
       "    }\n",
       "\n",
       "    .dataframe tbody tr th {\n",
       "        vertical-align: top;\n",
       "    }\n",
       "\n",
       "    .dataframe thead tr th {\n",
       "        text-align: left;\n",
       "    }\n",
       "\n",
       "    .dataframe thead tr:last-of-type th {\n",
       "        text-align: right;\n",
       "    }\n",
       "</style>\n",
       "<table border=\"1\" class=\"dataframe\">\n",
       "  <thead>\n",
       "    <tr>\n",
       "      <th></th>\n",
       "      <th colspan=\"2\" halign=\"left\">flipper_length_mm</th>\n",
       "    </tr>\n",
       "    <tr>\n",
       "      <th></th>\n",
       "      <th>min</th>\n",
       "      <th>max</th>\n",
       "    </tr>\n",
       "    <tr>\n",
       "      <th>species</th>\n",
       "      <th></th>\n",
       "      <th></th>\n",
       "    </tr>\n",
       "  </thead>\n",
       "  <tbody>\n",
       "    <tr>\n",
       "      <th>Adelie</th>\n",
       "      <td>172.0</td>\n",
       "      <td>210.0</td>\n",
       "    </tr>\n",
       "    <tr>\n",
       "      <th>Chinstrap</th>\n",
       "      <td>178.0</td>\n",
       "      <td>212.0</td>\n",
       "    </tr>\n",
       "    <tr>\n",
       "      <th>Gentoo</th>\n",
       "      <td>203.0</td>\n",
       "      <td>231.0</td>\n",
       "    </tr>\n",
       "  </tbody>\n",
       "</table>\n",
       "</div>"
      ],
      "text/plain": [
       "          flipper_length_mm       \n",
       "                        min    max\n",
       "species                           \n",
       "Adelie                172.0  210.0\n",
       "Chinstrap             178.0  212.0\n",
       "Gentoo                203.0  231.0"
      ]
     },
     "execution_count": 6,
     "metadata": {},
     "output_type": "execute_result"
    }
   ],
   "source": [
    "# data.groupby(\"species\")[\"flipper_length_mm\"].max()\n",
    "# data.groupby(\"species\")[\"flipper_length_mm\"].min()\n",
    "\n",
    "data.groupby(\"species\").agg({'flipper_length_mm': ['min', 'max']})"
   ]
  },
  {
   "cell_type": "code",
   "execution_count": 7,
   "metadata": {},
   "outputs": [
    {
     "data": {
      "text/html": [
       "<div>\n",
       "<style scoped>\n",
       "    .dataframe tbody tr th:only-of-type {\n",
       "        vertical-align: middle;\n",
       "    }\n",
       "\n",
       "    .dataframe tbody tr th {\n",
       "        vertical-align: top;\n",
       "    }\n",
       "\n",
       "    .dataframe thead tr th {\n",
       "        text-align: left;\n",
       "    }\n",
       "\n",
       "    .dataframe thead tr:last-of-type th {\n",
       "        text-align: right;\n",
       "    }\n",
       "</style>\n",
       "<table border=\"1\" class=\"dataframe\">\n",
       "  <thead>\n",
       "    <tr>\n",
       "      <th></th>\n",
       "      <th colspan=\"2\" halign=\"left\">flipper_length_mm</th>\n",
       "      <th>diff</th>\n",
       "    </tr>\n",
       "    <tr>\n",
       "      <th></th>\n",
       "      <th>min</th>\n",
       "      <th>max</th>\n",
       "      <th></th>\n",
       "    </tr>\n",
       "    <tr>\n",
       "      <th>species</th>\n",
       "      <th></th>\n",
       "      <th></th>\n",
       "      <th></th>\n",
       "    </tr>\n",
       "  </thead>\n",
       "  <tbody>\n",
       "    <tr>\n",
       "      <th>Gentoo</th>\n",
       "      <td>203.0</td>\n",
       "      <td>231.0</td>\n",
       "      <td>28.0</td>\n",
       "    </tr>\n",
       "    <tr>\n",
       "      <th>Chinstrap</th>\n",
       "      <td>178.0</td>\n",
       "      <td>212.0</td>\n",
       "      <td>34.0</td>\n",
       "    </tr>\n",
       "    <tr>\n",
       "      <th>Adelie</th>\n",
       "      <td>172.0</td>\n",
       "      <td>210.0</td>\n",
       "      <td>38.0</td>\n",
       "    </tr>\n",
       "  </tbody>\n",
       "</table>\n",
       "</div>"
      ],
      "text/plain": [
       "          flipper_length_mm         diff\n",
       "                        min    max      \n",
       "species                                 \n",
       "Gentoo                203.0  231.0  28.0\n",
       "Chinstrap             178.0  212.0  34.0\n",
       "Adelie                172.0  210.0  38.0"
      ]
     },
     "execution_count": 7,
     "metadata": {},
     "output_type": "execute_result"
    }
   ],
   "source": [
    "## MULTIINDEX\n",
    "\n",
    "# Výhoda: Tento přístup je vhodný, pokud chceš provádět agregace nad více sloupci nebo pokud potřebuješ přístup ke sloupcům přes víceúrovňový index.\n",
    "# Nevýhoda: Multiindex může být složitější na manipulaci a není vždy přehledný, pokud máš více agregovaných sloupců.\n",
    "aggregated = data.groupby(\"species\").agg({\"flipper_length_mm\": [\"min\", \"max\"]})\n",
    "\n",
    "aggregated[\"diff\"] = aggregated[(\n",
    "    \"flipper_length_mm\", \"max\")] - aggregated[(\"flipper_length_mm\", \"min\")]\n",
    "aggregated.sort_values(by=\"diff\")\n"
   ]
  },
  {
   "cell_type": "code",
   "execution_count": 8,
   "metadata": {},
   "outputs": [
    {
     "data": {
      "text/html": [
       "<div>\n",
       "<style scoped>\n",
       "    .dataframe tbody tr th:only-of-type {\n",
       "        vertical-align: middle;\n",
       "    }\n",
       "\n",
       "    .dataframe tbody tr th {\n",
       "        vertical-align: top;\n",
       "    }\n",
       "\n",
       "    .dataframe thead th {\n",
       "        text-align: right;\n",
       "    }\n",
       "</style>\n",
       "<table border=\"1\" class=\"dataframe\">\n",
       "  <thead>\n",
       "    <tr style=\"text-align: right;\">\n",
       "      <th></th>\n",
       "      <th>min_flipper_length</th>\n",
       "      <th>max_flipper_length</th>\n",
       "      <th>diff</th>\n",
       "    </tr>\n",
       "    <tr>\n",
       "      <th>species</th>\n",
       "      <th></th>\n",
       "      <th></th>\n",
       "      <th></th>\n",
       "    </tr>\n",
       "  </thead>\n",
       "  <tbody>\n",
       "    <tr>\n",
       "      <th>Gentoo</th>\n",
       "      <td>203.0</td>\n",
       "      <td>231.0</td>\n",
       "      <td>28.0</td>\n",
       "    </tr>\n",
       "    <tr>\n",
       "      <th>Chinstrap</th>\n",
       "      <td>178.0</td>\n",
       "      <td>212.0</td>\n",
       "      <td>34.0</td>\n",
       "    </tr>\n",
       "    <tr>\n",
       "      <th>Adelie</th>\n",
       "      <td>172.0</td>\n",
       "      <td>210.0</td>\n",
       "      <td>38.0</td>\n",
       "    </tr>\n",
       "  </tbody>\n",
       "</table>\n",
       "</div>"
      ],
      "text/plain": [
       "           min_flipper_length  max_flipper_length  diff\n",
       "species                                                \n",
       "Gentoo                  203.0               231.0  28.0\n",
       "Chinstrap               178.0               212.0  34.0\n",
       "Adelie                  172.0               210.0  38.0"
      ]
     },
     "execution_count": 8,
     "metadata": {},
     "output_type": "execute_result"
    }
   ],
   "source": [
    "# Výhoda: Tento přístup je přehlednější a lépe se s ním pracuje, zejména pokud potřebuješ přístup k agregovaným sloupcům s jednoduchými názvy.\n",
    "# Výhoda: Názvy sloupců můžeš při agregaci rovnou definovat, což ti umožní přesně říct, jak se mají jednotlivé výsledky jmenovat.\n",
    "# Nevýhoda: Méně flexibilní při agregaci více sloupců současně (na rozdíl od slovníkového přístupu v prvním přístupu).\n",
    "aggregated = data.groupby(\"species\").agg(\n",
    "    min_flipper_length=(\"flipper_length_mm\", \"min\"),\n",
    "    max_flipper_length=(\"flipper_length_mm\", \"max\"),\n",
    ")\n",
    "\n",
    "aggregated[\"diff\"] = aggregated[\"max_flipper_length\"] - aggregated[\"min_flipper_length\"]\n",
    "aggregated.sort_values(by=\"diff\")"
   ]
  },
  {
   "cell_type": "markdown",
   "metadata": {},
   "source": [
    "### Jaký je medián hmotnosti tučňáků a liší se tento medián mezi jednotlivými ostrovy, kde tučňáci žijí? Na kterém ostrově je medián hmotnosti největší?\n",
    "\n",
    "Data seskupte podle názvu ostrova a použijte agregační funkci `median()` pro výpočet mediánu hmotnosti tučňáků na každém ostrově."
   ]
  },
  {
   "cell_type": "code",
   "execution_count": 9,
   "metadata": {},
   "outputs": [
    {
     "data": {
      "text/plain": [
       "island\n",
       "Biscoe       4775.0\n",
       "Dream        3687.5\n",
       "Torgersen    3700.0\n",
       "Name: body_mass_g, dtype: float64"
      ]
     },
     "execution_count": 9,
     "metadata": {},
     "output_type": "execute_result"
    }
   ],
   "source": [
    "data.groupby(\"island\")[\"body_mass_g\"].median()"
   ]
  },
  {
   "cell_type": "markdown",
   "metadata": {},
   "source": [
    "### Existují v datasetu chybějící hodnoty? Pokud ano, ve kterých sloupcích?"
   ]
  },
  {
   "cell_type": "code",
   "execution_count": 10,
   "metadata": {},
   "outputs": [
    {
     "data": {
      "text/plain": [
       "species               0\n",
       "island                0\n",
       "bill_length_mm        2\n",
       "bill_depth_mm         2\n",
       "flipper_length_mm     2\n",
       "body_mass_g           2\n",
       "sex                  11\n",
       "year                  0\n",
       "dtype: int64"
      ]
     },
     "execution_count": 10,
     "metadata": {},
     "output_type": "execute_result"
    }
   ],
   "source": [
    "data.isna().sum()"
   ]
  },
  {
   "cell_type": "markdown",
   "metadata": {},
   "source": [
    "### Které druhy tučňáků mají průměrnou délku křídel větší než 200 mm?"
   ]
  },
  {
   "cell_type": "code",
   "execution_count": 11,
   "metadata": {},
   "outputs": [
    {
     "data": {
      "text/plain": [
       "species\n",
       "Gentoo    217.186992\n",
       "Name: flipper_length_mm, dtype: float64"
      ]
     },
     "execution_count": 11,
     "metadata": {},
     "output_type": "execute_result"
    }
   ],
   "source": [
    "agg_series = data.groupby([\"species\"])[\"flipper_length_mm\"].mean()\n",
    "agg_series[agg_series >= 200]"
   ]
  },
  {
   "cell_type": "code",
   "execution_count": 12,
   "metadata": {},
   "outputs": [
    {
     "data": {
      "text/html": [
       "<div>\n",
       "<style scoped>\n",
       "    .dataframe tbody tr th:only-of-type {\n",
       "        vertical-align: middle;\n",
       "    }\n",
       "\n",
       "    .dataframe tbody tr th {\n",
       "        vertical-align: top;\n",
       "    }\n",
       "\n",
       "    .dataframe thead th {\n",
       "        text-align: right;\n",
       "    }\n",
       "</style>\n",
       "<table border=\"1\" class=\"dataframe\">\n",
       "  <thead>\n",
       "    <tr style=\"text-align: right;\">\n",
       "      <th></th>\n",
       "      <th>flipper_length_mm</th>\n",
       "    </tr>\n",
       "    <tr>\n",
       "      <th>species</th>\n",
       "      <th></th>\n",
       "    </tr>\n",
       "  </thead>\n",
       "  <tbody>\n",
       "    <tr>\n",
       "      <th>Gentoo</th>\n",
       "      <td>217.186992</td>\n",
       "    </tr>\n",
       "  </tbody>\n",
       "</table>\n",
       "</div>"
      ],
      "text/plain": [
       "         flipper_length_mm\n",
       "species                   \n",
       "Gentoo          217.186992"
      ]
     },
     "execution_count": 12,
     "metadata": {},
     "output_type": "execute_result"
    }
   ],
   "source": [
    "agg_df = data.groupby([\"species\"])[\"flipper_length_mm\"].mean().to_frame()\n",
    "agg_df[agg_df[\"flipper_length_mm\"] >= 200]"
   ]
  },
  {
   "cell_type": "code",
   "execution_count": null,
   "metadata": {},
   "outputs": [],
   "source": []
  }
 ],
 "metadata": {
  "kernelspec": {
   "display_name": "Python 3",
   "language": "python",
   "name": "python3"
  },
  "language_info": {
   "codemirror_mode": {
    "name": "ipython",
    "version": 3
   },
   "file_extension": ".py",
   "mimetype": "text/x-python",
   "name": "python",
   "nbconvert_exporter": "python",
   "pygments_lexer": "ipython3",
   "version": "3.12.3"
  }
 },
 "nbformat": 4,
 "nbformat_minor": 2
}
